{
 "cells": [
  {
   "cell_type": "code",
   "execution_count": 1,
   "metadata": {},
   "outputs": [],
   "source": [
    "import org.apache.spark.SparkConf\n",
    "import org.apache.spark.SparkContext\n",
    "import org.apache.spark.SparkContext._"
   ]
  },
  {
   "cell_type": "code",
   "execution_count": 2,
   "metadata": {},
   "outputs": [
    {
     "data": {
      "text/plain": [
       "conf = org.apache.spark.SparkConf@b7a489c\n",
       "sc = org.apache.spark.SparkContext@dd5223c\n"
      ]
     },
     "metadata": {},
     "output_type": "display_data",
     "source": "user"
    },
    {
     "data": {
      "text/plain": [
       "org.apache.spark.SparkContext@dd5223c"
      ]
     },
     "execution_count": 2,
     "metadata": {},
     "output_type": "execute_result"
    }
   ],
   "source": [
    "// Cluster URL specifies how to connect to a cluster. \n",
    "//Local runs on local machine, without conencting to a cluster\n",
    "val conf = new SparkConf().setMaster(\"local\").setAppName(\"Learning Spark Transformations App\")\n",
    "val sc = new SparkContext(conf)"
   ]
  },
  {
   "cell_type": "markdown",
   "metadata": {},
   "source": [
    "### Simple RDD"
   ]
  },
  {
   "cell_type": "code",
   "execution_count": 3,
   "metadata": {},
   "outputs": [
    {
     "data": {
      "text/plain": [
       "lines = simple_file.txt MapPartitionsRDD[1] at textFile at <console>:32\n"
      ]
     },
     "metadata": {},
     "output_type": "display_data",
     "source": "user"
    },
    {
     "data": {
      "text/plain": [
       "simple_file.txt MapPartitionsRDD[1] at textFile at <console>:32"
      ]
     },
     "execution_count": 3,
     "metadata": {},
     "output_type": "execute_result"
    }
   ],
   "source": [
    "val lines = sc.textFile(\"simple_file.txt\")"
   ]
  },
  {
   "cell_type": "code",
   "execution_count": 4,
   "metadata": {},
   "outputs": [
    {
     "data": {
      "text/plain": [
       "Array(\"Lorem ipsum dolor sit amet, consectetur adipiscing elit. \", \"\", \"Vestibulum eu sollicitudin ipsum, ut rutrum leo. \", \"Proin sodales tincidunt mi, at sodales augue cursus sit amet. \", \"\")"
      ]
     },
     "execution_count": 4,
     "metadata": {},
     "output_type": "execute_result"
    }
   ],
   "source": [
    "lines.filter(line => line.length < 150).take(5)"
   ]
  },
  {
   "cell_type": "markdown",
   "metadata": {},
   "source": [
    "### Pair RDD"
   ]
  },
  {
   "cell_type": "code",
   "execution_count": 5,
   "metadata": {},
   "outputs": [
    {
     "data": {
      "text/plain": [
       "pairs = MapPartitionsRDD[3] at map at <console>:32\n"
      ]
     },
     "metadata": {},
     "output_type": "display_data",
     "source": "user"
    },
    {
     "data": {
      "text/plain": [
       "MapPartitionsRDD[3] at map at <console>:32"
      ]
     },
     "execution_count": 5,
     "metadata": {},
     "output_type": "execute_result"
    }
   ],
   "source": [
    "val pairs = lines.map(x => (x.split(\" \")(0), x))"
   ]
  },
  {
   "cell_type": "code",
   "execution_count": 6,
   "metadata": {},
   "outputs": [
    {
     "data": {
      "text/plain": [
       "Array((Lorem,\"Lorem ipsum dolor sit amet, consectetur adipiscing elit. \"), (\"\",\"\"), (Vestibulum,\"Vestibulum eu sollicitudin ipsum, ut rutrum leo. \"), (Proin,\"Proin sodales tincidunt mi, at sodales augue cursus sit amet. \"), (\"\",\"\"))"
      ]
     },
     "execution_count": 6,
     "metadata": {},
     "output_type": "execute_result"
    }
   ],
   "source": [
    "pairs.take(5)"
   ]
  },
  {
   "cell_type": "code",
   "execution_count": 7,
   "metadata": {},
   "outputs": [
    {
     "data": {
      "text/plain": [
       "Array((Lorem,\"Lorem ipsum dolor sit amet, consectetur adipiscing elit. \"), (\"\",\"\"), (Vestibulum,\"Vestibulum eu sollicitudin ipsum, ut rutrum leo. \"), (Proin,\"Proin sodales tincidunt mi, at sodales augue cursus sit amet. \"), (\"\",\"\"), (Duis,\"Duis tincidunt mollis sem ac fermentum. \"), (Vestibulum,\"Vestibulum cursus lacinia mauris id viverra. \"), (Curabitur,Curabitur rutrum, tellus vitae ullamcorper faucibus, tortor purus varius urna, vitae rhoncus elit dui id risus.))"
      ]
     },
     "execution_count": 7,
     "metadata": {},
     "output_type": "execute_result"
    }
   ],
   "source": [
    "pairs.filter{ case (key, value) => value.length < 150 }.take(8)"
   ]
  },
  {
   "cell_type": "markdown",
   "metadata": {},
   "source": [
    "### Another Pair RDD"
   ]
  },
  {
   "cell_type": "code",
   "execution_count": 8,
   "metadata": {},
   "outputs": [
    {
     "data": {
      "text/plain": [
       "simpleRDD = ParallelCollectionRDD[5] at parallelize at <console>:33\n"
      ]
     },
     "metadata": {},
     "output_type": "display_data",
     "source": "user"
    },
    {
     "data": {
      "text/plain": [
       "ParallelCollectionRDD[5] at parallelize at <console>:33"
      ]
     },
     "execution_count": 8,
     "metadata": {},
     "output_type": "execute_result"
    }
   ],
   "source": [
    "// Creating a pair RDD\n",
    "val simpleRDD = sc.parallelize(Seq((1, 2), (3, 6), (3, 4), (2, 8)))"
   ]
  },
  {
   "cell_type": "markdown",
   "metadata": {},
   "source": [
    "### Transformations on one Pair RDD"
   ]
  },
  {
   "cell_type": "code",
   "execution_count": 9,
   "metadata": {},
   "outputs": [
    {
     "data": {
      "text/plain": [
       "Array((1,2), (3,10), (2,8))"
      ]
     },
     "execution_count": 9,
     "metadata": {},
     "output_type": "execute_result"
    }
   ],
   "source": [
    "// Combine values with same key. This function runs several parallel reduce operations\n",
    "simpleRDD.reduceByKey((x, y) => x + y).take(3)"
   ]
  },
  {
   "cell_type": "code",
   "execution_count": 10,
   "metadata": {},
   "outputs": [
    {
     "data": {
      "text/plain": [
       "Array((1,CompactBuffer(2)), (3,CompactBuffer(6, 4)), (2,CompactBuffer(8)))"
      ]
     },
     "execution_count": 10,
     "metadata": {},
     "output_type": "execute_result"
    }
   ],
   "source": [
    "// Group values\n",
    "simpleRDD.groupByKey().take(3)"
   ]
  },
  {
   "cell_type": "code",
   "execution_count": 11,
   "metadata": {},
   "outputs": [
    {
     "data": {
      "text/plain": [
       "Array(1, 3, 3, 2)"
      ]
     },
     "execution_count": 11,
     "metadata": {},
     "output_type": "execute_result"
    }
   ],
   "source": [
    "// Get Keys\n",
    "simpleRDD.keys.collect()"
   ]
  },
  {
   "cell_type": "code",
   "execution_count": 12,
   "metadata": {},
   "outputs": [
    {
     "data": {
      "text/plain": [
       "Array(2, 6, 4, 8)"
      ]
     },
     "execution_count": 12,
     "metadata": {},
     "output_type": "execute_result"
    }
   ],
   "source": [
    "// Get values\n",
    "simpleRDD.values.collect()"
   ]
  },
  {
   "cell_type": "code",
   "execution_count": 13,
   "metadata": {},
   "outputs": [
    {
     "data": {
      "text/plain": [
       "Array((1,2), (2,8), (3,6), (3,4))"
      ]
     },
     "execution_count": 13,
     "metadata": {},
     "output_type": "execute_result"
    }
   ],
   "source": [
    "// RDD is sorted by key\n",
    "simpleRDD.sortByKey().collect()"
   ]
  },
  {
   "cell_type": "code",
   "execution_count": 14,
   "metadata": {},
   "outputs": [
    {
     "data": {
      "text/plain": [
       "Array((3,6), (3,4), (2,8), (1,2))"
      ]
     },
     "execution_count": 14,
     "metadata": {},
     "output_type": "execute_result"
    }
   ],
   "source": [
    "// RDD is sorted by key, in descending order\n",
    "simpleRDD.sortByKey(false).collect()"
   ]
  },
  {
   "cell_type": "code",
   "execution_count": 15,
   "metadata": {},
   "outputs": [
    {
     "data": {
      "text/plain": [
       "Array((1,3), (3,7), (3,5), (2,9))"
      ]
     },
     "execution_count": 15,
     "metadata": {},
     "output_type": "execute_result"
    }
   ],
   "source": [
    "// Operation applied to each RDD value\n",
    "simpleRDD.mapValues(x => x + 1).take(4)"
   ]
  },
  {
   "cell_type": "code",
   "execution_count": 16,
   "metadata": {},
   "outputs": [
    {
     "data": {
      "text/plain": [
       "Array((1,3), (3,7), (3,5), (2,9))"
      ]
     },
     "execution_count": 16,
     "metadata": {},
     "output_type": "execute_result"
    }
   ],
   "source": [
    "// Operation equivalent to mapValues\n",
    "simpleRDD.map{case (x, y) => (x, y + 1)}.take(4)"
   ]
  },
  {
   "cell_type": "code",
   "execution_count": 17,
   "metadata": {},
   "outputs": [
    {
     "data": {
      "text/plain": [
       "Array((1,2), (1,3), (1,4), (1,5), (3,4), (3,5))"
      ]
     },
     "execution_count": 17,
     "metadata": {},
     "output_type": "execute_result"
    }
   ],
   "source": [
    "// The applied function returns an iterator to each value. This is flattened, so\n",
    "// each value forms a key-value pair with the old key\n",
    "simpleRDD.flatMapValues(x => (x to 5)).take(10)"
   ]
  },
  {
   "cell_type": "markdown",
   "metadata": {},
   "source": [
    "#### Applying map and then reduce function"
   ]
  },
  {
   "cell_type": "code",
   "execution_count": 18,
   "metadata": {},
   "outputs": [
    {
     "data": {
      "text/plain": [
       "fruits = ParallelCollectionRDD[15] at parallelize at <console>:32\n"
      ]
     },
     "metadata": {},
     "output_type": "display_data",
     "source": "user"
    },
    {
     "data": {
      "text/plain": [
       "ParallelCollectionRDD[15] at parallelize at <console>:32"
      ]
     },
     "execution_count": 18,
     "metadata": {},
     "output_type": "execute_result"
    }
   ],
   "source": [
    "val fruits = sc.parallelize(Seq((\"apple\", 3), (\"banana\", 5), (\"papaya\", 4), \n",
    "                                (\"banana\", 3), (\"apple\", 2)))"
   ]
  },
  {
   "cell_type": "code",
   "execution_count": 19,
   "metadata": {},
   "outputs": [
    {
     "data": {
      "text/plain": [
       "Array((banana,(8,2)), (papaya,(4,1)), (apple,(5,2)))"
      ]
     },
     "execution_count": 19,
     "metadata": {},
     "output_type": "execute_result"
    }
   ],
   "source": [
    "// In the result, first number is the sum of the values, while the second is the \n",
    "// frequency each key appears\n",
    "fruits.mapValues(y => (y, 1)).reduceByKey((y, z) => (y._1 + z._1, y._2 + z._2)).collect()"
   ]
  },
  {
   "cell_type": "markdown",
   "metadata": {},
   "source": [
    "#### Word Count using flatMap, map and reduceByKey"
   ]
  },
  {
   "cell_type": "code",
   "execution_count": 20,
   "metadata": {},
   "outputs": [
    {
     "data": {
      "text/plain": [
       "content = simple_file.txt MapPartitionsRDD[19] at textFile at <console>:32\n"
      ]
     },
     "metadata": {},
     "output_type": "display_data",
     "source": "user"
    },
    {
     "data": {
      "text/plain": [
       "simple_file.txt MapPartitionsRDD[19] at textFile at <console>:32"
      ]
     },
     "execution_count": 20,
     "metadata": {},
     "output_type": "execute_result"
    }
   ],
   "source": [
    "val content = sc.textFile(\"simple_file.txt\")"
   ]
  },
  {
   "cell_type": "code",
   "execution_count": 21,
   "metadata": {},
   "outputs": [
    {
     "data": {
      "text/plain": [
       "words = MapPartitionsRDD[20] at flatMap at <console>:32\n"
      ]
     },
     "metadata": {},
     "output_type": "display_data",
     "source": "user"
    },
    {
     "data": {
      "text/plain": [
       "Array((ac,5), (ipsum,,1), (erat,1), (justo,1), (augue,,1), (turpis.,1), (fames,1), (congue.,1), (urna,1), (leo,1), (vel,,1), (Lorem,1), (auctor,1), (rutrum,,1), (malesuada,2))"
      ]
     },
     "execution_count": 21,
     "metadata": {},
     "output_type": "execute_result"
    }
   ],
   "source": [
    "val words = content.flatMap(x => x.split(\" \"))\n",
    "words.map(x => (x, 1)).reduceByKey((y1, y2) => y1 + y2).take(15)"
   ]
  },
  {
   "cell_type": "code",
   "execution_count": 22,
   "metadata": {},
   "outputs": [
    {
     "data": {
      "text/plain": [
       "1"
      ]
     },
     "execution_count": 22,
     "metadata": {},
     "output_type": "execute_result"
    }
   ],
   "source": [
    "words.partitions.size"
   ]
  },
  {
   "cell_type": "code",
   "execution_count": 23,
   "metadata": {},
   "outputs": [
    {
     "data": {
      "text/plain": [
       "temp = ShuffledRDD[24] at reduceByKey at <console>:34\n"
      ]
     },
     "metadata": {},
     "output_type": "display_data",
     "source": "user"
    },
    {
     "data": {
      "text/plain": [
       "Array((faucibus,,1), (pretium,1), (metus,1), (urna,1), (ultricies.,1), (nec,,1), (tortor,1), (dictum,1), (egestas,1), (\"\",3), (quis,1), (dapibus,1), (mattis,1), (mi,,1), (lobortis.,1))"
      ]
     },
     "execution_count": 23,
     "metadata": {},
     "output_type": "execute_result"
    }
   ],
   "source": [
    "// Setting the level of parallelism (second argument of reduceByKey), \n",
    "// by specifying the number of partitions\n",
    "val temp = words.map(x => (x, 1)).reduceByKey((y1, y2) => y1 + y2, 6)\n",
    "temp.take(15)"
   ]
  },
  {
   "cell_type": "code",
   "execution_count": 24,
   "metadata": {},
   "outputs": [
    {
     "data": {
      "text/plain": [
       "6"
      ]
     },
     "execution_count": 24,
     "metadata": {},
     "output_type": "execute_result"
    }
   ],
   "source": [
    "temp.partitions.size"
   ]
  },
  {
   "cell_type": "markdown",
   "metadata": {},
   "source": [
    "#### Word Count using flatMap and countByValue"
   ]
  },
  {
   "cell_type": "code",
   "execution_count": 25,
   "metadata": {},
   "outputs": [
    {
     "data": {
      "text/plain": [
       "Map(elit -> 2, mauris. -> 1, augue. -> 2, \"\" -> 3, tortor -> 1, diam, -> 1, consectetur -> 1, sed -> 1, dictum -> 1, in -> 1, fames -> 1, ipsum, -> 1, sagittis -> 2, vel, -> 1, volutpat -> 1)"
      ]
     },
     "execution_count": 25,
     "metadata": {},
     "output_type": "execute_result"
    }
   ],
   "source": [
    "content.flatMap(x => x.split(\" \")).countByValue().take(15)"
   ]
  },
  {
   "cell_type": "markdown",
   "metadata": {},
   "source": [
    "### Transformations on two Pair RDDs"
   ]
  },
  {
   "cell_type": "code",
   "execution_count": 26,
   "metadata": {},
   "outputs": [
    {
     "data": {
      "text/plain": [
       "firstRDD = ParallelCollectionRDD[29] at parallelize at <console>:32\n",
       "secondRDD = ParallelCollectionRDD[30] at parallelize at <console>:33\n"
      ]
     },
     "metadata": {},
     "output_type": "display_data",
     "source": "user"
    },
    {
     "data": {
      "text/plain": [
       "ParallelCollectionRDD[30] at parallelize at <console>:33"
      ]
     },
     "execution_count": 26,
     "metadata": {},
     "output_type": "execute_result"
    }
   ],
   "source": [
    "val firstRDD = sc.parallelize(Seq((1, 2), (3, 6), (3, 4), (2, 8)))\n",
    "val secondRDD = sc.parallelize(Seq((3, 9), (2, 3)))"
   ]
  },
  {
   "cell_type": "code",
   "execution_count": 27,
   "metadata": {},
   "outputs": [
    {
     "data": {
      "text/plain": [
       "Array((1,2))"
      ]
     },
     "execution_count": 27,
     "metadata": {},
     "output_type": "execute_result"
    }
   ],
   "source": [
    "// Remove elements if theirs keys are present in the second RDD\n",
    "firstRDD.subtractByKey(secondRDD).collect()"
   ]
  },
  {
   "cell_type": "code",
   "execution_count": 28,
   "metadata": {},
   "outputs": [
    {
     "data": {
      "text/plain": [
       "Array((3,(6,9)), (3,(4,9)), (2,(8,3)))"
      ]
     },
     "execution_count": 28,
     "metadata": {},
     "output_type": "execute_result"
    }
   ],
   "source": [
    "// Inner join\n",
    "firstRDD.join(secondRDD).collect()"
   ]
  },
  {
   "cell_type": "code",
   "execution_count": 29,
   "metadata": {},
   "outputs": [
    {
     "data": {
      "text/plain": [
       "Array((3,(Some(6),9)), (3,(Some(4),9)), (2,(Some(8),3)))"
      ]
     },
     "execution_count": 29,
     "metadata": {},
     "output_type": "execute_result"
    }
   ],
   "source": [
    "// Right Outer Join - the key must be present in the second RDD\n",
    "firstRDD.rightOuterJoin(secondRDD).take(4)"
   ]
  },
  {
   "cell_type": "code",
   "execution_count": 30,
   "metadata": {},
   "outputs": [
    {
     "data": {
      "text/plain": [
       "Array((1,(2,None)), (3,(6,Some(9))), (3,(4,Some(9))), (2,(8,Some(3))))"
      ]
     },
     "execution_count": 30,
     "metadata": {},
     "output_type": "execute_result"
    }
   ],
   "source": [
    "// Left Outer Join - the key must be present in the first RDD\n",
    "firstRDD.leftOuterJoin(secondRDD).take(4)"
   ]
  },
  {
   "cell_type": "code",
   "execution_count": 31,
   "metadata": {},
   "outputs": [
    {
     "data": {
      "text/plain": [
       "Array((1,(CompactBuffer(2),CompactBuffer())), (3,(CompactBuffer(6, 4),CompactBuffer(9))), (2,(CompactBuffer(8),CompactBuffer(3))))"
      ]
     },
     "execution_count": 31,
     "metadata": {},
     "output_type": "execute_result"
    }
   ],
   "source": [
    "// Group data from the first and second RDD sharing the same key\n",
    "firstRDD.cogroup(secondRDD).collect()"
   ]
  },
  {
   "cell_type": "markdown",
   "metadata": {},
   "source": [
    "### Transformations on three Pair RDDs"
   ]
  },
  {
   "cell_type": "code",
   "execution_count": 32,
   "metadata": {},
   "outputs": [
    {
     "data": {
      "text/plain": [
       "thirdRDD = ParallelCollectionRDD[43] at parallelize at <console>:32\n"
      ]
     },
     "metadata": {},
     "output_type": "display_data",
     "source": "user"
    },
    {
     "data": {
      "text/plain": [
       "ParallelCollectionRDD[43] at parallelize at <console>:32"
      ]
     },
     "execution_count": 32,
     "metadata": {},
     "output_type": "execute_result"
    }
   ],
   "source": [
    "val thirdRDD = sc.parallelize(Seq((1, 4), (3, 5), (4, 8)))"
   ]
  },
  {
   "cell_type": "code",
   "execution_count": 33,
   "metadata": {},
   "outputs": [
    {
     "data": {
      "text/plain": [
       "Array((4,(CompactBuffer(),CompactBuffer(8))), (1,(CompactBuffer((CompactBuffer(2),CompactBuffer())),CompactBuffer(4))), (3,(CompactBuffer((CompactBuffer(6, 4),CompactBuffer(9))),CompactBuffer(5))), (2,(CompactBuffer((CompactBuffer(8),CompactBuffer(3))),CompactBuffer())))"
      ]
     },
     "execution_count": 33,
     "metadata": {},
     "output_type": "execute_result"
    }
   ],
   "source": [
    "firstRDD.cogroup(secondRDD).cogroup(thirdRDD).take(4)"
   ]
  }
 ],
 "metadata": {
  "kernelspec": {
   "display_name": "Spark - Scala",
   "language": "scala",
   "name": "spark_scala"
  },
  "language_info": {
   "codemirror_mode": "text/x-scala",
   "file_extension": ".scala",
   "mimetype": "text/x-scala",
   "name": "scala",
   "pygments_lexer": "scala",
   "version": "2.11.12"
  }
 },
 "nbformat": 4,
 "nbformat_minor": 4
}
